{
 "metadata": {
  "language_info": {
   "codemirror_mode": {
    "name": "ipython",
    "version": 3
   },
   "file_extension": ".py",
   "mimetype": "text/x-python",
   "name": "python",
   "nbconvert_exporter": "python",
   "pygments_lexer": "ipython3",
   "version": "3.9.4"
  },
  "orig_nbformat": 2,
  "kernelspec": {
   "name": "python394jvsc74a57bd05c894ff839a48d4c77499b12de5ae102574276f781916b9d57be3a7c4f5e8334",
   "display_name": "Python 3.9.4 64-bit"
  },
  "metadata": {
   "interpreter": {
    "hash": "dc587a305fc5e90b292bc8ade140f717cc0a134277c6b49427bd79504d1eb0c2"
   }
  }
 },
 "nbformat": 4,
 "nbformat_minor": 2,
 "cells": [
  {
   "source": [
    "___\n",
    "\n",
    "# PROJETO 2 - Ciência dos Dados 2021.1\n",
    "#### Rodrigo Guilherme Araujo Pires\n",
    "\n",
    "___\n",
    "<div id=\"indice\"></div>\n",
    "\n"
   ],
   "cell_type": "markdown",
   "metadata": {}
  },
  {
   "source": [
    "___\n",
    "\n",
    "<div id=\"intro\"></div>\n",
    "\n",
    "## A. Introdução\n",
    "Este projeto tem o objetivo de prever uma variável principal em função de demais outras variáveis \n",
    "que podem influenciar em seu comportamento. Para isso foi escolhida uma base de dados contendo dados de varios filmes lançados desde 2006 e a seguinte pergunta: \"Com os dados contidos na base de dados, é possível prever a sua nota?\""
   ],
   "cell_type": "markdown",
   "metadata": {}
  },
  {
   "source": [
    "___\n",
    "\n",
    "<div id=\"dados\"></div>\n",
    "\n",
    "## B. Minerando Dados e Características do Dataset"
   ],
   "cell_type": "markdown",
   "metadata": {}
  },
  {
   "source": [
    "Importando bibliotecas e dataset:"
   ],
   "cell_type": "markdown",
   "metadata": {}
  },
  {
   "source": [
    "%matplotlib inline\n",
    "import math\n",
    "import os\n",
    "\n",
    "import matplotlib.pyplot as plt\n",
    "import numpy as np\n",
    "from numpy import arange\n",
    "import pandas as pd\n",
    "from scipy import stats"
   ],
   "cell_type": "code",
   "metadata": {},
   "execution_count": null,
   "outputs": []
  },
  {
   "cell_type": "code",
   "execution_count": null,
   "metadata": {},
   "outputs": [],
   "source": [
    "dados = pd.read_csv('movie_success_rate.csv') # Importa a base de dados\n",
    "dados=dados.dropna() # Remove linhas com valores faltando"
   ]
  },
  {
   "cell_type": "code",
   "execution_count": null,
   "metadata": {},
   "outputs": [],
   "source": [
    "dados"
   ]
  },
  {
   "cell_type": "code",
   "execution_count": null,
   "metadata": {},
   "outputs": [],
   "source": [
    "# Histograma apenas utilizando o primeiro genero na coluna de generos\n",
    "primeiro_genero = dados['Genre'].str.split(\",\", expand=True)[0]\n",
    "generos = primeiro_genero.value_counts()\n",
    "primeiro_genero.value_counts()"
   ]
  },
  {
   "cell_type": "code",
   "execution_count": null,
   "metadata": {},
   "outputs": [],
   "source": [
    "plt.figure(figsize=(15, 5))\n",
    "plt.hist(primeiro_genero, bins=len(generos), edgecolor='white')\n",
    "plt.title('Número de filmes por gênero')\n",
    "plt.xlabel('gênero')\n",
    "plt.ylabel('Número de filmes')\n",
    "plt.show()"
   ]
  },
  {
   "cell_type": "code",
   "execution_count": null,
   "metadata": {},
   "outputs": [],
   "source": [
    "plt.figure(figsize=(20, 7.5))\n",
    "plt.title('Relação da renda e e avaliação de cada filme')\n",
    "plt.scatter(dados['Revenue (Millions)'], dados['Rating'], c='red', alpha=0.5)\n",
    "plt.xlabel('Receita')\n",
    "plt.ylabel('Avaliação')\n",
    "plt.show()"
   ]
  },
  {
   "source": [
    "___\n",
    "\n",
    "<div id=\"modelos\"></div>\n",
    "\n",
    "## C. Modelos de Predição e Estatísticas de Validação\n",
    "\n"
   ],
   "cell_type": "markdown",
   "metadata": {}
  },
  {
   "source": [
    "#### Selecionando as colunas utilizadas para o modelo de predição:\n",
    "\n",
    "- Para o modelo, serão utilizados dados de ano de lançamento, duração, quantidade de avaliações, receita e os gêneros do filme.\n",
    "\n",
    "\n",
    "- $y$ será a avaliação do filme"
   ],
   "cell_type": "markdown",
   "metadata": {}
  },
  {
   "source": [
    "x = dados[['Year', 'Runtime (Minutes)', 'Votes', 'Revenue (Millions)', 'Action', 'Adventure', 'Aniimation', 'Biography', 'Comedy', 'Crime', 'Drama', 'Family', 'Fantasy', 'History', 'Horror', 'Music', 'Musical', 'Mystery', 'Romance', 'Sci-Fi', 'Sport', 'Thriller', 'War', 'Western']]\n",
    "x.head(10)"
   ],
   "cell_type": "code",
   "metadata": {},
   "execution_count": null,
   "outputs": []
  },
  {
   "cell_type": "code",
   "execution_count": null,
   "metadata": {},
   "outputs": [],
   "source": [
    "y = dados['Rating']\n",
    "y.head(10)"
   ]
  },
  {
   "source": [
    "### 1. Random Forest Regression\n",
    "\n",
    "#### O Random Forest Regression constrói múltiplas árvores de decisão durante seu trinamento, retornando a média das predições de cada árvore. É considerado um modelo robusto e não enviesado, porém requer um maior poder computacional.\n",
    "\n",
    "Para implementar o modelo será utilizado `RandomForestRegressor` do módulo `sklearn.ensemble`. Outros módulos que serão usados depois também importados."
   ],
   "cell_type": "markdown",
   "metadata": {}
  },
  {
   "cell_type": "code",
   "execution_count": null,
   "metadata": {},
   "outputs": [],
   "source": [
    "from sklearn.ensemble import RandomForestRegressor\n",
    "from sklearn.model_selection import train_test_split\n",
    "from sklearn.metrics import r2_score, mean_squared_error"
   ]
  },
  {
   "source": [
    "#### Separando a base de dados em treinamento e teste com `train_test_split`:\n",
    "- parâmetro: `test_size=0.1` - 10% serão usados para teste"
   ],
   "cell_type": "markdown",
   "metadata": {}
  },
  {
   "cell_type": "code",
   "execution_count": null,
   "metadata": {},
   "outputs": [],
   "source": [
    "x_treinamento, x_teste, y_treinamento, y_teste = train_test_split(x ,y , test_size=0.1, random_state=0)"
   ]
  },
  {
   "source": [
    "\n",
    "#### `RandomForestRegressor` utilizado com os parâmetros:\n",
    "- `n_estimators` - número de árvores\n",
    "- `random_state` - controla a aleatoriedade de escolhas do modelo, 0 é a maior consistência\n",
    "    "
   ],
   "cell_type": "markdown",
   "metadata": {}
  },
  {
   "cell_type": "code",
   "execution_count": null,
   "metadata": {},
   "outputs": [],
   "source": [
    "rfr = RandomForestRegressor(n_estimators = 500, random_state=0)\n",
    "rfr = rfr.fit(x_treinamento, y_treinamento)\n",
    "y_predicao = rfr.predict(x_teste)"
   ]
  },
  {
   "source": [
    "#### Verificando a performance:\n",
    "- `.score()` (varia de 0 a 1) - comparando os valores previstos pelo modelo com os valores na base de treino, quanto mais próximo de 1, melhor:"
   ],
   "cell_type": "markdown",
   "metadata": {}
  },
  {
   "cell_type": "code",
   "execution_count": null,
   "metadata": {},
   "outputs": [],
   "source": [
    "rfr.score(x_treinamento , y_treinamento)"
   ]
  },
  {
   "source": [
    "- `.score()` - agora comparando os valores previstos pelo modelo com os valores que o modelo não usou, que estão na base teste, quanto mais próximo de 1.0, melhor:"
   ],
   "cell_type": "markdown",
   "metadata": {}
  },
  {
   "cell_type": "code",
   "execution_count": null,
   "metadata": {},
   "outputs": [],
   "source": [
    "rfr.score(x_teste, y_teste)"
   ]
  },
  {
   "source": [
    "- `mean_squared_error` - Raiz Quadrada do Erro Quadrático Médio: calcula uma medida da diferença entre os valores previstos e os valores reais, quanto mais próximo de 0, melhor:"
   ],
   "cell_type": "markdown",
   "metadata": {}
  },
  {
   "cell_type": "code",
   "execution_count": null,
   "metadata": {},
   "outputs": [],
   "source": [
    "rmse = np.sqrt(mean_squared_error(y_teste, y_predicao))\n",
    "rmse"
   ]
  },
  {
   "source": [
    "- Histograma dos resíduos do modelo - visualizaçao gráfica da difereça entre os valores previstos e os valores reais:"
   ],
   "cell_type": "markdown",
   "metadata": {}
  },
  {
   "cell_type": "code",
   "execution_count": null,
   "metadata": {},
   "outputs": [],
   "source": [
    "residuos = y_teste - y_predicao\n",
    "\n",
    "plt.figure(figsize=(15, 7.5))\n",
    "plt.hist(residuos,edgecolor='white', bins=len(y_teste));\n",
    "plt.title('Histograma dos resíduos do modelo de Random Forest Regression')\n",
    "plt.ylabel('Quantidade')\n",
    "plt.xlabel('Valor dos resíduos')\n",
    "plt.show()"
   ]
  },
  {
   "source": [
    "### 2. Regressão Linear\n",
    "\n",
    "#### Na Regressão Linear, as relações são modeladas com as predições de funções lineares, onde seus parâmetros serão calculados a parir da base de treinamento.\n",
    "\n",
    "Para implementar o modelo será utilizado `LinearRegression` do módulo `sklearn.linear_model`."
   ],
   "cell_type": "markdown",
   "metadata": {}
  },
  {
   "cell_type": "code",
   "execution_count": null,
   "metadata": {},
   "outputs": [],
   "source": [
    "from sklearn.linear_model import LinearRegression"
   ]
  },
  {
   "cell_type": "code",
   "execution_count": null,
   "metadata": {},
   "outputs": [],
   "source": [
    "lr = LinearRegression()\n",
    "lr.fit(x_treinamento, y_treinamento)\n",
    "y_predicao = lr.predict(x_teste)"
   ]
  },
  {
   "source": [
    "#### Verificando a performance:\n",
    "- `.score()` (varia de 0 a 1) - comparando os valores previstos pelo modelo com os valores na base de treino, quanto mais próximo de 1, melhor:"
   ],
   "cell_type": "markdown",
   "metadata": {}
  },
  {
   "cell_type": "code",
   "execution_count": null,
   "metadata": {},
   "outputs": [],
   "source": [
    "lr.score(x_treinamento , y_treinamento)"
   ]
  },
  {
   "source": [
    "- `.score()` - agora comparando os valores previstos pelo modelo com os valores que o modelo não usou, que estão na base teste, quanto mais próximo de 1.0, melhor:"
   ],
   "cell_type": "markdown",
   "metadata": {}
  },
  {
   "cell_type": "code",
   "execution_count": null,
   "metadata": {},
   "outputs": [],
   "source": [
    "lr.score(x_teste, y_teste)"
   ]
  },
  {
   "source": [
    "- `mean_squared_error` - Raiz Quadrada do Erro Quadrático Médio: calcula uma medida da diferença entre os valores previstos e os valores reais, quanto mais próximo de 0, melhor:"
   ],
   "cell_type": "markdown",
   "metadata": {}
  },
  {
   "cell_type": "code",
   "execution_count": null,
   "metadata": {},
   "outputs": [],
   "source": [
    "rmse = np.sqrt(mean_squared_error(y_teste, y_predicao))\n",
    "rmse"
   ]
  },
  {
   "source": [
    "- Histograma dos resíduos do modelo - visualizaçao gráfica da difereça entre os valores previstos e os valores reais:"
   ],
   "cell_type": "markdown",
   "metadata": {}
  },
  {
   "cell_type": "code",
   "execution_count": null,
   "metadata": {},
   "outputs": [],
   "source": [
    "residuos = y_teste - y_predicao\n",
    "\n",
    "plt.figure(figsize=(15, 7.5))\n",
    "plt.hist(residuos,edgecolor='white', bins=len(y_teste));\n",
    "plt.title('Histograma dos resíduos do modelo de Regressão Linear')\n",
    "plt.ylabel('Quantidade')\n",
    "plt.xlabel('Valor dos resíduos')\n",
    "plt.show()"
   ]
  },
  {
   "source": [
    "___\n",
    "\n",
    "<div id=\"conclusao\"></div>\n",
    "\n",
    "## D. Conclusão\n",
    "\n",
    "- A partir do tema e pergunta apresentados e uma análise exploratória inicial, foram escolhidas dois modelos de predição.\n",
    "- De acordo com os tipos de variáveis trabalhadas, foram utilizadas duas técnicas de regressão.\n",
    "- Os modelos de Random Forest Regression e regressão Linear foram implementados e calculados.\n",
    "- Diferentes técnicas de validação e medição de performance foram apresentadas e implementadas.\n",
    "- Utilizando as técnicas de validação, o modelo de Random Forest Regression foi o que apresentou a melhor performance."
   ],
   "cell_type": "markdown",
   "metadata": {}
  },
  {
   "source": [
    "___\n",
    "\n",
    "<div id=\"refs\"></div>\n",
    "\n",
    "## E. Referências Bibliográficas\n",
    "\n",
    "- BASE DE DADOS: https://www.kaggle.com/therealsampat/predict-movie-success-rate\n",
    "- https://ensinandomaquinasblog.wordpress.com/2017/12/15/modelos-preditivos-de-notas-de-redacao-do-enem-2015/\n",
    "- https://stackabuse.com/random-forest-algorithm-with-python-and-scikit-learn\n",
    "- https://heartbeat.fritz.ai/random-forest-regression-in-python-using-scikit-learn-9e9b147e2153\n",
    "- https://stackabuse.com/linear-regression-in-python-with-scikit-learn\n",
    "- https://paulovasconcellos.com.br/como-saber-se-seu-modelo-de-machine-learning-est%C3%A1-funcionando-mesmo-a5892f6468b"
   ],
   "cell_type": "markdown",
   "metadata": {}
  }
 ]
}